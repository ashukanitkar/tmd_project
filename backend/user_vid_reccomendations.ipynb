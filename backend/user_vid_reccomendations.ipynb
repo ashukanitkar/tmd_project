{
 "cells": [
  {
   "cell_type": "code",
   "execution_count": 27,
   "metadata": {},
   "outputs": [
    {
     "data": {
      "text/plain": "        User     Type Screenshot  Order  \\\n0       Cole  Control     Search      1   \n1       Cole  Control     Search      2   \n2       Cole  Control     Search      3   \n3       Cole  Control     Search      4   \n4       Cole  Control     Search      5   \n..       ...      ...        ...    ...   \n324  Dongxue   Right          R7      2   \n325  Dongxue   Right          R7      3   \n326  Dongxue   Right          R7      4   \n327  Dongxue   Right          R7      5   \n328  Dongxue   Right          R7      6   \n\n                                                 Video         Channels  \\\n0           2020 Election Results and Analysis | TODAY            TODAY   \n1    Election Results 2020: Last Week Tonight with ...  LastWeekTonight   \n2    LIVE: Latest News Headlines and Events | ABC N...         ABC News   \n3            John King: If Trump loses here, he's done              CNN   \n4           2020 Election Results and Analysis | TODAY            TODAY   \n..                                                 ...              ...   \n324  Dogfights: F-86 Sabres Battle at Extreme Speed...          history   \n325  Pete Hegseth responds to Ilhan Omar's tweet ab...        fox news    \n326  fremont police release body cam video of deadl...     mercury news   \n327  desantis hits ocasio-cortez: i don't care if s...         fox news   \n328     caityln jenner rips newsom's response to covid        fox news    \n\n    Verified    BiasRating         Factual MBFC Credibility Rating  \n0         NaN  left-center  mostly factual                     NaN  \n1         NaN          NaN             NaN                     NaN  \n2         NaN  left-center            high                    high  \n3         NaN        left            mixed                  medium  \n4         NaN  left-center  mostly factual                     NaN  \n..        ...          ...             ...                     ...  \n324       NaN          NaN             NaN                     NaN  \n325       NaN        right           mixed      medium credibility  \n326       NaN  left-center            high                     NaN  \n327       NaN        right           mixed      medium credibility  \n328       NaN        right           mixed      medium credibility  \n\n[329 rows x 10 columns]",
      "text/html": "<div>\n<style scoped>\n    .dataframe tbody tr th:only-of-type {\n        vertical-align: middle;\n    }\n\n    .dataframe tbody tr th {\n        vertical-align: top;\n    }\n\n    .dataframe thead th {\n        text-align: right;\n    }\n</style>\n<table border=\"1\" class=\"dataframe\">\n  <thead>\n    <tr style=\"text-align: right;\">\n      <th></th>\n      <th>User</th>\n      <th>Type</th>\n      <th>Screenshot</th>\n      <th>Order</th>\n      <th>Video</th>\n      <th>Channels</th>\n      <th>Verified</th>\n      <th>BiasRating</th>\n      <th>Factual</th>\n      <th>MBFC Credibility Rating</th>\n    </tr>\n  </thead>\n  <tbody>\n    <tr>\n      <th>0</th>\n      <td>Cole</td>\n      <td>Control</td>\n      <td>Search</td>\n      <td>1</td>\n      <td>2020 Election Results and Analysis | TODAY</td>\n      <td>TODAY</td>\n      <td>NaN</td>\n      <td>left-center</td>\n      <td>mostly factual</td>\n      <td>NaN</td>\n    </tr>\n    <tr>\n      <th>1</th>\n      <td>Cole</td>\n      <td>Control</td>\n      <td>Search</td>\n      <td>2</td>\n      <td>Election Results 2020: Last Week Tonight with ...</td>\n      <td>LastWeekTonight</td>\n      <td>NaN</td>\n      <td>NaN</td>\n      <td>NaN</td>\n      <td>NaN</td>\n    </tr>\n    <tr>\n      <th>2</th>\n      <td>Cole</td>\n      <td>Control</td>\n      <td>Search</td>\n      <td>3</td>\n      <td>LIVE: Latest News Headlines and Events | ABC N...</td>\n      <td>ABC News</td>\n      <td>NaN</td>\n      <td>left-center</td>\n      <td>high</td>\n      <td>high</td>\n    </tr>\n    <tr>\n      <th>3</th>\n      <td>Cole</td>\n      <td>Control</td>\n      <td>Search</td>\n      <td>4</td>\n      <td>John King: If Trump loses here, he's done</td>\n      <td>CNN</td>\n      <td>NaN</td>\n      <td>left</td>\n      <td>mixed</td>\n      <td>medium</td>\n    </tr>\n    <tr>\n      <th>4</th>\n      <td>Cole</td>\n      <td>Control</td>\n      <td>Search</td>\n      <td>5</td>\n      <td>2020 Election Results and Analysis | TODAY</td>\n      <td>TODAY</td>\n      <td>NaN</td>\n      <td>left-center</td>\n      <td>mostly factual</td>\n      <td>NaN</td>\n    </tr>\n    <tr>\n      <th>...</th>\n      <td>...</td>\n      <td>...</td>\n      <td>...</td>\n      <td>...</td>\n      <td>...</td>\n      <td>...</td>\n      <td>...</td>\n      <td>...</td>\n      <td>...</td>\n      <td>...</td>\n    </tr>\n    <tr>\n      <th>324</th>\n      <td>Dongxue</td>\n      <td>Right</td>\n      <td>R7</td>\n      <td>2</td>\n      <td>Dogfights: F-86 Sabres Battle at Extreme Speed...</td>\n      <td>history</td>\n      <td>NaN</td>\n      <td>NaN</td>\n      <td>NaN</td>\n      <td>NaN</td>\n    </tr>\n    <tr>\n      <th>325</th>\n      <td>Dongxue</td>\n      <td>Right</td>\n      <td>R7</td>\n      <td>3</td>\n      <td>Pete Hegseth responds to Ilhan Omar's tweet ab...</td>\n      <td>fox news</td>\n      <td>NaN</td>\n      <td>right</td>\n      <td>mixed</td>\n      <td>medium credibility</td>\n    </tr>\n    <tr>\n      <th>326</th>\n      <td>Dongxue</td>\n      <td>Right</td>\n      <td>R7</td>\n      <td>4</td>\n      <td>fremont police release body cam video of deadl...</td>\n      <td>mercury news</td>\n      <td>NaN</td>\n      <td>left-center</td>\n      <td>high</td>\n      <td>NaN</td>\n    </tr>\n    <tr>\n      <th>327</th>\n      <td>Dongxue</td>\n      <td>Right</td>\n      <td>R7</td>\n      <td>5</td>\n      <td>desantis hits ocasio-cortez: i don't care if s...</td>\n      <td>fox news</td>\n      <td>NaN</td>\n      <td>right</td>\n      <td>mixed</td>\n      <td>medium credibility</td>\n    </tr>\n    <tr>\n      <th>328</th>\n      <td>Dongxue</td>\n      <td>Right</td>\n      <td>R7</td>\n      <td>6</td>\n      <td>caityln jenner rips newsom's response to covid</td>\n      <td>fox news</td>\n      <td>NaN</td>\n      <td>right</td>\n      <td>mixed</td>\n      <td>medium credibility</td>\n    </tr>\n  </tbody>\n</table>\n<p>329 rows × 10 columns</p>\n</div>"
     },
     "execution_count": 27,
     "metadata": {},
     "output_type": "execute_result"
    }
   ],
   "source": [
    "import pandas as pd\n",
    "import numpy as np\n",
    "video_data = pd.read_csv('Screenshots Data - Sheet1.csv')\n",
    "video_data"
   ]
  },
  {
   "cell_type": "code",
   "execution_count": 23,
   "metadata": {},
   "outputs": [],
   "source": [
    "df = video_data[[\"User\", \"Type\", \"Screenshot\", \"Order\", \"Video\", \"Channels\", \"BiasRating\"]]"
   ]
  },
  {
   "cell_type": "code",
   "execution_count": 24,
   "metadata": {},
   "outputs": [
    {
     "data": {
      "text/plain": "        User     Type Screenshot  Order  \\\n0       Cole  Control     Search      1   \n1       Cole  Control     Search      2   \n2       Cole  Control     Search      3   \n3       Cole  Control     Search      4   \n4       Cole  Control     Search      5   \n..       ...      ...        ...    ...   \n324  Dongxue   Right          R7      2   \n325  Dongxue   Right          R7      3   \n326  Dongxue   Right          R7      4   \n327  Dongxue   Right          R7      5   \n328  Dongxue   Right          R7      6   \n\n                                                 Video         Channels  \\\n0           2020 Election Results and Analysis | TODAY            TODAY   \n1    Election Results 2020: Last Week Tonight with ...  LastWeekTonight   \n2    LIVE: Latest News Headlines and Events | ABC N...         ABC News   \n3            John King: If Trump loses here, he's done              CNN   \n4           2020 Election Results and Analysis | TODAY            TODAY   \n..                                                 ...              ...   \n324  Dogfights: F-86 Sabres Battle at Extreme Speed...          history   \n325  Pete Hegseth responds to Ilhan Omar's tweet ab...        fox news    \n326  fremont police release body cam video of deadl...     mercury news   \n327  desantis hits ocasio-cortez: i don't care if s...         fox news   \n328     caityln jenner rips newsom's response to covid        fox news    \n\n      BiasRating  \n0    left-center  \n1            NaN  \n2    left-center  \n3          left   \n4    left-center  \n..           ...  \n324          NaN  \n325        right  \n326  left-center  \n327        right  \n328        right  \n\n[329 rows x 7 columns]",
      "text/html": "<div>\n<style scoped>\n    .dataframe tbody tr th:only-of-type {\n        vertical-align: middle;\n    }\n\n    .dataframe tbody tr th {\n        vertical-align: top;\n    }\n\n    .dataframe thead th {\n        text-align: right;\n    }\n</style>\n<table border=\"1\" class=\"dataframe\">\n  <thead>\n    <tr style=\"text-align: right;\">\n      <th></th>\n      <th>User</th>\n      <th>Type</th>\n      <th>Screenshot</th>\n      <th>Order</th>\n      <th>Video</th>\n      <th>Channels</th>\n      <th>BiasRating</th>\n    </tr>\n  </thead>\n  <tbody>\n    <tr>\n      <th>0</th>\n      <td>Cole</td>\n      <td>Control</td>\n      <td>Search</td>\n      <td>1</td>\n      <td>2020 Election Results and Analysis | TODAY</td>\n      <td>TODAY</td>\n      <td>left-center</td>\n    </tr>\n    <tr>\n      <th>1</th>\n      <td>Cole</td>\n      <td>Control</td>\n      <td>Search</td>\n      <td>2</td>\n      <td>Election Results 2020: Last Week Tonight with ...</td>\n      <td>LastWeekTonight</td>\n      <td>NaN</td>\n    </tr>\n    <tr>\n      <th>2</th>\n      <td>Cole</td>\n      <td>Control</td>\n      <td>Search</td>\n      <td>3</td>\n      <td>LIVE: Latest News Headlines and Events | ABC N...</td>\n      <td>ABC News</td>\n      <td>left-center</td>\n    </tr>\n    <tr>\n      <th>3</th>\n      <td>Cole</td>\n      <td>Control</td>\n      <td>Search</td>\n      <td>4</td>\n      <td>John King: If Trump loses here, he's done</td>\n      <td>CNN</td>\n      <td>left</td>\n    </tr>\n    <tr>\n      <th>4</th>\n      <td>Cole</td>\n      <td>Control</td>\n      <td>Search</td>\n      <td>5</td>\n      <td>2020 Election Results and Analysis | TODAY</td>\n      <td>TODAY</td>\n      <td>left-center</td>\n    </tr>\n    <tr>\n      <th>...</th>\n      <td>...</td>\n      <td>...</td>\n      <td>...</td>\n      <td>...</td>\n      <td>...</td>\n      <td>...</td>\n      <td>...</td>\n    </tr>\n    <tr>\n      <th>324</th>\n      <td>Dongxue</td>\n      <td>Right</td>\n      <td>R7</td>\n      <td>2</td>\n      <td>Dogfights: F-86 Sabres Battle at Extreme Speed...</td>\n      <td>history</td>\n      <td>NaN</td>\n    </tr>\n    <tr>\n      <th>325</th>\n      <td>Dongxue</td>\n      <td>Right</td>\n      <td>R7</td>\n      <td>3</td>\n      <td>Pete Hegseth responds to Ilhan Omar's tweet ab...</td>\n      <td>fox news</td>\n      <td>right</td>\n    </tr>\n    <tr>\n      <th>326</th>\n      <td>Dongxue</td>\n      <td>Right</td>\n      <td>R7</td>\n      <td>4</td>\n      <td>fremont police release body cam video of deadl...</td>\n      <td>mercury news</td>\n      <td>left-center</td>\n    </tr>\n    <tr>\n      <th>327</th>\n      <td>Dongxue</td>\n      <td>Right</td>\n      <td>R7</td>\n      <td>5</td>\n      <td>desantis hits ocasio-cortez: i don't care if s...</td>\n      <td>fox news</td>\n      <td>right</td>\n    </tr>\n    <tr>\n      <th>328</th>\n      <td>Dongxue</td>\n      <td>Right</td>\n      <td>R7</td>\n      <td>6</td>\n      <td>caityln jenner rips newsom's response to covid</td>\n      <td>fox news</td>\n      <td>right</td>\n    </tr>\n  </tbody>\n</table>\n<p>329 rows × 7 columns</p>\n</div>"
     },
     "execution_count": 24,
     "metadata": {},
     "output_type": "execute_result"
    }
   ],
   "source": [
    "df"
   ]
  },
  {
   "cell_type": "code",
   "execution_count": 31,
   "metadata": {},
   "outputs": [],
   "source": [
    "users = [\"Benje\", \"Candice\", \"Derren\", \"Dongxue\", \"Cole\", \"Jaeden\"]\n",
    "rounds = [\"Search\", \"R1\", \"R2\", \"R3\", \"R4\", \"R5\", \"R6\", \"R7\"]\n",
    "json_obj = {\"users\": []}\n",
    "switch = 1\n",
    "for index1, user in enumerate(users):\n",
    "    user = {\"column_user_id\": int(not(switch)), \"rounds\": []}\n",
    "    switch = int(not(switch))\n",
    "    # print(user)\n",
    "    r = 0\n",
    "    for rnd in range(len(rounds)):\n",
    "        single_rnd = {\"round_id\": r, \"videos\": []}\n",
    "        r += 1\n",
    "        extracted_df = df.loc[(df['User'] == users[index1]) & (df[\"Screenshot\"] == rounds[rnd])]\n",
    "        # print(f'extracted_df: {extracted_df}')\n",
    "        null = None\n",
    "        video_array = eval(extracted_df.loc[:, [\"Video\", \"Channels\", \"BiasRating\"]].to_json(orient = \"records\"))\n",
    "        single_rnd[\"videos\"] = video_array\n",
    "        user[\"rounds\"].append(single_rnd)\n",
    "    json_obj[\"users\"].append(user)\n",
    "\n",
    "# json_obj\n"
   ]
  },
  {
   "cell_type": "code",
   "execution_count": 32,
   "metadata": {},
   "outputs": [],
   "source": [
    "import json\n",
    "with open('../frontend/src/watch-recommendations.json', 'w') as outfile:\n",
    "    json.dump(json_obj, outfile, indent=3)\n"
   ]
  },
  {
   "cell_type": "code",
   "execution_count": 26,
   "metadata": {},
   "outputs": [],
   "source": [
    "video_data = pd.read_csv('data_new.csv')\n",
    "\n",
    "df2 = video_data[[\"Column\", \"UserID\", \"User\", \"Type\", \"Screenshot\", \"Order\", \"Video\", \"Channels\", \"Bias Rating\", \"Factual\"]]\n",
    "users = [\"Benje\", \"Candice\", \"Derren\", \"Dongxue\", \"Cole\", \"Jaeden\"]\n",
    "rounds = [\"Search\", \"R1\", \"R2\", \"R3\", \"R4\", \"R5\", \"R6\", \"R7\"]\n",
    "\n",
    "df2.loc[(df2['Column'] == 0) & (df2['UserID'] == 0)]\n",
    "\n",
    "import numpy as np\n",
    "captions = []\n",
    "for c in range(3):\n",
    "    column = []\n",
    "    for u in range(2):\n",
    "        user = []\n",
    "        for r in range(1, len(rounds)):\n",
    "            extracted_df = df2.loc[(df2['Column'] == c) & (df2['UserID'] == u) & (df2[\"Screenshot\"] == rounds[r])]\n",
    "            x = extracted_df[\"Bias Rating\"].to_string(index=False).strip().replace('\\n', ', ')\n",
    "            user.append([x])\n",
    "        column.append(user)\n",
    "    captions.append(column)\n",
    "\n",
    "captions\n"
   ]
  },
  {
   "cell_type": "code",
   "execution_count": 26,
   "metadata": {
    "pycharm": {
     "name": "#%%cols, users, rounds, blah = captions.shape\n"
    }
   },
   "outputs": [],
   "source": [
    "cols, users, rounds, blah = captions.shape\n",
    "colors = {\n",
    "    'least bias': \"#f1e15b\",\n",
    "    'left': \"#61cdbb\",\n",
    "    'left-center': \"#e8c1a0\",\n",
    "    'NaN': \"#f47560\",\n",
    "    'right': \"#e8a838\",\n",
    "    'right-center': \"#9467bd\",\n",
    "    }\n",
    "\n",
    "preprocessed_data = []\n",
    "for col in range(cols):\n",
    "    c = []\n",
    "    for user in range(users):\n",
    "        u = []\n",
    "        for r in range(rounds):\n",
    "            # print(f'col: {col}, user: {user}, round: {r}')\n",
    "            curr_data = np.array(captions[col][user][r])\n",
    "            curr_data = curr_data[0].split(',')\n",
    "            for i in range(len(curr_data)):\n",
    "                curr_data[i] = curr_data[i].strip()\n",
    "\n",
    "            (unique, counts) = np.unique(curr_data, return_counts=True)\n",
    "            freq = np.asarray((unique,counts)).T\n",
    "            round_data = []\n",
    "            for f in freq:\n",
    "                res = {}\n",
    "\n",
    "                if f[0] == \"NaN\":\n",
    "                    res[\"id\"] = \"Unrated\"\n",
    "                    res[\"label\"] = \"Unrated\"\n",
    "                else:\n",
    "                    res[\"id\"] = f[0].title()\n",
    "                    res[\"label\"] = f[0].title()\n",
    "\n",
    "                res[\"value\"] = int(f[1])\n",
    "                # res[\"color\"] = colors[f[0]]\n",
    "\n",
    "                round_data.append(res)\n",
    "\n",
    "            u.append(round_data)\n",
    "        c.append(u)\n",
    "    preprocessed_data.append(c)\n",
    "\n",
    "print(preprocessed_data)"
   ]
  }
 ],
 "metadata": {
  "kernelspec": {
   "display_name": "Python 3",
   "language": "python",
   "name": "python3"
  },
  "language_info": {
   "codemirror_mode": {
    "name": "ipython",
    "version": 3
   },
   "file_extension": ".py",
   "mimetype": "text/x-python",
   "name": "python",
   "nbconvert_exporter": "python",
   "pygments_lexer": "ipython3",
   "version": "3.8.3"
  }
 },
 "nbformat": 4,
 "nbformat_minor": 4
}